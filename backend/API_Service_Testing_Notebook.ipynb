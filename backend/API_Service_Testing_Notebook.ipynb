{
 "cells": [
  {
   "cell_type": "markdown",
   "id": "3aec14e2",
   "metadata": {},
   "source": [
    "# API Service 测试 Notebook\n",
    "\n",
    "本 Notebook 用于测试租赁协商系统的 API Service 功能，包括:\n",
    "- 创建协商会话\n",
    "- WebSocket 实时通信测试\n",
    "- 管理端点测试\n",
    "- 错误处理验证\n",
    "\n",
    "## 测试环境设置"
   ]
  },
  {
   "cell_type": "code",
   "execution_count": 1,
   "id": "9465c0a2",
   "metadata": {},
   "outputs": [
    {
     "name": "stdout",
     "output_type": "stream",
     "text": [
      "环境配置完成 ✓\n"
     ]
    }
   ],
   "source": [
    "import asyncio\n",
    "import json\n",
    "import requests\n",
    "import websockets\n",
    "from datetime import datetime\n",
    "from typing import Dict, Any\n",
    "\n",
    "# 配置\n",
    "BASE_URL = \"http://localhost:8000\"\n",
    "WS_URL = \"ws://localhost:8000\"\n",
    "\n",
    "# 测试数据\n",
    "test_session_id = None\n",
    "test_participants = {}\n",
    "\n",
    "print(\"环境配置完成 ✓\")"
   ]
  },
  {
   "cell_type": "markdown",
   "id": "83618967",
   "metadata": {},
   "source": [
    "## 1. 健康检查和基础信息"
   ]
  },
  {
   "cell_type": "code",
   "execution_count": 2,
   "id": "e7a0f587",
   "metadata": {},
   "outputs": [
    {
     "name": "stdout",
     "output_type": "stream",
     "text": [
      "✓ API 服务运行正常\n",
      "版本: 2.0.0\n",
      "功能: Multi-party negotiations, Real-time WebSocket communication, Market analyst integration, Session management, Analytics and monitoring\n"
     ]
    }
   ],
   "source": [
    "# 检查 API 服务状态\n",
    "def check_api_health():\n",
    "    try:\n",
    "        response = requests.get(f\"{BASE_URL}/\")\n",
    "        if response.status_code == 200:\n",
    "            data = response.json()\n",
    "            print(\"✓ API 服务运行正常\")\n",
    "            print(f\"版本: {data.get('version')}\")\n",
    "            print(f\"功能: {', '.join(data.get('features', []))}\")\n",
    "            return True\n",
    "        else:\n",
    "            print(f\"✗ API 服务异常: {response.status_code}\")\n",
    "            return False\n",
    "    except Exception as e:\n",
    "        print(f\"✗ 连接失败: {str(e)}\")\n",
    "        return False\n",
    "\n",
    "api_healthy = check_api_health()"
   ]
  },
  {
   "cell_type": "markdown",
   "id": "a4831882",
   "metadata": {},
   "source": [
    "## 2. 获取演示数据"
   ]
  },
  {
   "cell_type": "code",
   "execution_count": 3,
   "id": "f94dc8a3",
   "metadata": {},
   "outputs": [
    {
     "name": "stdout",
     "output_type": "stream",
     "text": [
      "✓ 获取演示数据成功\n",
      "\n",
      "=== 房产信息 ===\n",
      "✗ 请求失败: 'property'\n",
      "\n",
      "✗ 无法设置测试参与者 - 演示数据获取失败\n"
     ]
    }
   ],
   "source": [
    "# 获取演示协商数据\n",
    "def get_demo_data():\n",
    "    try:\n",
    "        response = requests.get(f\"{BASE_URL}/admin/demo/negotiation-data\")\n",
    "        if response.status_code == 200:\n",
    "            data = response.json()\n",
    "            print(\"✓ 获取演示数据成功\")\n",
    "            print(\"\\n=== 房产信息 ===\")\n",
    "            prop = data['property']\n",
    "            print(f\"地址: {prop['address']}\")\n",
    "            print(f\"月租: £{prop['rent']}\")\n",
    "            print(f\"卧室数: {prop['bedrooms']}\")\n",
    "            print(f\"房产类型: {prop.get('property_type', 'N/A')}\")\n",
    "            print(f\"房产描述: {prop.get('summary', 'N/A')}\")\n",
    "            \n",
    "            print(\"\\n=== 房东信息 ===\")\n",
    "            landlord = data['landlord']\n",
    "            print(f\"姓名: {landlord['name']}\")\n",
    "            print(f\"房产数量: {landlord['properties_count']}\")\n",
    "            preferences = landlord.get('preferences', {})\n",
    "            if preferences:\n",
    "                print(\"房东偏好:\")\n",
    "                for key, value in preferences.items():\n",
    "                    print(f\"  - {key}: {value}\")\n",
    "            \n",
    "            print(\"\\n=== 租客信息 ===\")\n",
    "            tenants = data['tenants']\n",
    "            print(f\"租客数量: {len(tenants)}\")\n",
    "            for i, tenant in enumerate(tenants, 1):\n",
    "                print(f\"\\n租客 {i}:\")\n",
    "                print(f\"  姓名: {tenant['name']}\")\n",
    "                print(f\"  预算: £{tenant['budget']}\")\n",
    "                print(f\"  卧室需求: {tenant['bedrooms_needed']}\")\n",
    "                print(f\"  学生身份: {'是' if tenant.get('is_student') else '否'}\")\n",
    "                print(f\"  有宠物: {'是' if tenant.get('has_pets') else '否'}\")\n",
    "                print(f\"  有担保人: {'是' if tenant.get('has_guarantor') else '否'}\")\n",
    "            \n",
    "            # 显示市场背景信息\n",
    "            if 'market_context' in data:\n",
    "                print(\"\\n=== 市场背景 ===\")\n",
    "                market = data['market_context']\n",
    "                print(f\"区域平均租金: £{market.get('average_rent_in_area', 'N/A')}\")\n",
    "                print(f\"类似房产数量: {market.get('similar_properties_available', 'N/A')}\")\n",
    "                print(f\"市场趋势: {market.get('market_trend', 'N/A')}\")\n",
    "            \n",
    "            # 显示协商建议\n",
    "            if 'negotiation_tips' in data:\n",
    "                print(\"\\n=== 协商建议 ===\")\n",
    "                tips = data['negotiation_tips']\n",
    "                print(f\"房东策略: {tips.get('landlord_strategy', 'N/A')}\")\n",
    "                print(f\"租客策略: {tips.get('tenant_strategy', 'N/A')}\")\n",
    "                print(f\"市场因素: {tips.get('market_factors', 'N/A')}\")\n",
    "            \n",
    "            return data\n",
    "        else:\n",
    "            print(f\"✗ 获取演示数据失败: {response.status_code}\")\n",
    "            if response.text:\n",
    "                print(f\"错误信息: {response.text}\")\n",
    "            return None\n",
    "    except Exception as e:\n",
    "        print(f\"✗ 请求失败: {str(e)}\")\n",
    "        return None\n",
    "\n",
    "demo_data = get_demo_data()\n",
    "if demo_data:\n",
    "    test_participants = {\n",
    "        'landlord_id': demo_data['landlord']['id'],\n",
    "        'tenant_ids': [t['id'] for t in demo_data['tenants']],\n",
    "        'property_id': demo_data['property']['id']\n",
    "    }\n",
    "    print(f\"\\n✓ 测试参与者信息已设置\")\n",
    "    print(f\"房东 ID: {test_participants['landlord_id']}\")\n",
    "    print(f\"租客 ID: {test_participants['tenant_ids']}\")\n",
    "    print(f\"房产 ID: {test_participants['property_id']}\")\n",
    "else:\n",
    "    print(\"\\n✗ 无法设置测试参与者 - 演示数据获取失败\")"
   ]
  },
  {
   "cell_type": "markdown",
   "id": "c45aafd0",
   "metadata": {},
   "source": [
    "## 3. 创建协商会话测试"
   ]
  },
  {
   "cell_type": "code",
   "execution_count": 4,
   "id": "de24636d",
   "metadata": {},
   "outputs": [
    {
     "name": "stdout",
     "output_type": "stream",
     "text": [
      "✗ 需要先获取演示数据\n"
     ]
    }
   ],
   "source": [
    "# 创建协商会话\n",
    "def create_negotiation_session():\n",
    "    if not demo_data:\n",
    "        print(\"✗ 需要先获取演示数据\")\n",
    "        return None\n",
    "        \n",
    "    payload = {\n",
    "        \"property_id\": test_participants['property_id'],\n",
    "        \"tenant_ids\": test_participants['tenant_ids'][:2],  # 取前2个租客\n",
    "        \"landlord_id\": test_participants['landlord_id']\n",
    "    }\n",
    "    \n",
    "    try:\n",
    "        response = requests.post(\n",
    "            f\"{BASE_URL}/negotiation/create\",\n",
    "            json=payload,\n",
    "            headers={\"Content-Type\": \"application/json\"}\n",
    "        )\n",
    "        \n",
    "        if response.status_code == 200:\n",
    "            data = response.json()\n",
    "            session_id = data['session_id']\n",
    "            print(f\"✓ 协商会话创建成功: {session_id}\")\n",
    "            print(f\"状态: {data['status']}\")\n",
    "            print(f\"参与者数量: {len(data['participants'])}\")\n",
    "            \n",
    "            for participant in data['participants']:\n",
    "                print(f\"  - {participant['name']} ({participant['role']})\")\n",
    "            \n",
    "            return session_id\n",
    "        else:\n",
    "            print(f\"✗ 创建失败: {response.status_code}\")\n",
    "            print(f\"错误: {response.text}\")\n",
    "            return None\n",
    "    except Exception as e:\n",
    "        print(f\"✗ 请求失败: {str(e)}\")\n",
    "        return None\n",
    "\n",
    "test_session_id = create_negotiation_session()"
   ]
  },
  {
   "cell_type": "markdown",
   "id": "04da7dda",
   "metadata": {},
   "source": [
    "## 4. 查询协商会话信息"
   ]
  },
  {
   "cell_type": "code",
   "execution_count": 5,
   "id": "b1d7e350",
   "metadata": {},
   "outputs": [
    {
     "name": "stdout",
     "output_type": "stream",
     "text": [
      "✗ 需要有效的会话 ID\n"
     ]
    }
   ],
   "source": [
    "# 查询会话详情\n",
    "def get_session_info(session_id):\n",
    "    if not session_id:\n",
    "        print(\"✗ 需要有效的会话 ID\")\n",
    "        return None\n",
    "        \n",
    "    try:\n",
    "        response = requests.get(f\"{BASE_URL}/negotiation/{session_id}\")\n",
    "        \n",
    "        if response.status_code == 200:\n",
    "            data = response.json()\n",
    "            print(f\"✓ 会话信息获取成功\")\n",
    "            print(f\"会话 ID: {data['session_id']}\")\n",
    "            print(f\"房产 ID: {data['property_id']}\")\n",
    "            print(f\"状态: {data['status']}\")\n",
    "            print(f\"创建时间: {data['created_at']}\")\n",
    "            print(f\"更新时间: {data['updated_at']}\")\n",
    "            \n",
    "            print(\"\\n房产信息:\")\n",
    "            prop = data['context']['property']\n",
    "            print(f\"  地址: {prop['address']}\")\n",
    "            print(f\"  月租: £{prop['monthly_rent']}\")\n",
    "            print(f\"  卧室数: {prop['bedrooms']}\")\n",
    "            \n",
    "            return data\n",
    "        else:\n",
    "            print(f\"✗ 查询失败: {response.status_code}\")\n",
    "            return None\n",
    "    except Exception as e:\n",
    "        print(f\"✗ 请求失败: {str(e)}\")\n",
    "        return None\n",
    "\n",
    "session_info = get_session_info(test_session_id)"
   ]
  },
  {
   "cell_type": "markdown",
   "id": "2ec6e06f",
   "metadata": {},
   "source": [
    "## 5. WebSocket 实时通信测试"
   ]
  },
  {
   "cell_type": "code",
   "execution_count": 6,
   "id": "b393048b",
   "metadata": {},
   "outputs": [
    {
     "name": "stdout",
     "output_type": "stream",
     "text": [
      "✗ 跳过 WebSocket 测试 - 无有效会话\n"
     ]
    }
   ],
   "source": [
    "# WebSocket 测试函数\n",
    "async def test_websocket_communication():\n",
    "    if not test_session_id:\n",
    "        print(\"✗ 需要有效的会话 ID\")\n",
    "        return\n",
    "        \n",
    "    ws_url = f\"{WS_URL}/ws/negotiation/{test_session_id}\"\n",
    "    print(f\"连接到: {ws_url}\")\n",
    "    \n",
    "    try:\n",
    "        async with websockets.connect(ws_url) as websocket:\n",
    "            print(\"✓ WebSocket 连接成功\")\n",
    "            \n",
    "            # 接收初始会话信息\n",
    "            session_info = await websocket.recv()\n",
    "            session_data = json.loads(session_info)\n",
    "            print(f\"会话信息: {session_data['type']}\")\n",
    "            \n",
    "            # 模拟租客发送消息\n",
    "            tenant_id = test_participants['tenant_ids'][0]\n",
    "            test_message = {\n",
    "                \"message\": \"Hello, I'm interested in this property. Can we discuss the rent?\",\n",
    "                \"participant_id\": tenant_id\n",
    "            }\n",
    "            \n",
    "            print(f\"\\n发送消息: {test_message['message']}\")\n",
    "            await websocket.send(json.dumps(test_message))\n",
    "            \n",
    "            # 接收响应\n",
    "            response_count = 0\n",
    "            full_response = \"\"\n",
    "            \n",
    "            while response_count < 10:  # 限制接收次数\n",
    "                try:\n",
    "                    response = await asyncio.wait_for(websocket.recv(), timeout=2.0)\n",
    "                    data = json.loads(response)\n",
    "                    \n",
    "                    if data['type'] == 'message_received':\n",
    "                        print(f\"✓ 消息已接收: {data['from']} ({data['role']})\")\n",
    "                    elif data['type'] == 'response_chunk':\n",
    "                        full_response += data.get('chunk', '')\n",
    "                        print(f\"接收响应块: {data.get('chunk', '')[:50]}...\")\n",
    "                    elif data['type'] == 'response_complete':\n",
    "                        print(f\"\\n✓ 完整响应接收完成\")\n",
    "                        print(f\"响应长度: {len(data.get('response', ''))} 字符\")\n",
    "                        break\n",
    "                    elif data['type'] == 'error':\n",
    "                        print(f\"✗ 错误: {data.get('error')}\")\n",
    "                        break\n",
    "                        \n",
    "                    response_count += 1\n",
    "                except asyncio.TimeoutError:\n",
    "                    print(\"响应接收超时\")\n",
    "                    break\n",
    "                    \n",
    "            print(f\"\\n总共接收 {response_count} 个响应\")\n",
    "            \n",
    "    except Exception as e:\n",
    "        print(f\"✗ WebSocket 测试失败: {str(e)}\")\n",
    "\n",
    "# 运行 WebSocket 测试\n",
    "if test_session_id:\n",
    "    await test_websocket_communication()\n",
    "else:\n",
    "    print(\"✗ 跳过 WebSocket 测试 - 无有效会话\")"
   ]
  },
  {
   "cell_type": "markdown",
   "id": "cce5846b",
   "metadata": {},
   "source": [
    "## 6. 管理端点测试"
   ]
  },
  {
   "cell_type": "code",
   "execution_count": 7,
   "id": "449d4458",
   "metadata": {},
   "outputs": [
    {
     "name": "stdout",
     "output_type": "stream",
     "text": [
      "=== 管理端点测试 ===\n",
      "✓ 健康检查通过\n",
      "✓ 获取示例参与者成功 (0 个)\n",
      "✓ 会话统计获取成功\n",
      "  总会话数: 0\n",
      "  活跃会话数: 0\n",
      "✓ 热门房产获取成功 (0 个)\n"
     ]
    }
   ],
   "source": [
    "# 测试管理端点\n",
    "def test_admin_endpoints():\n",
    "    print(\"=== 管理端点测试 ===\")\n",
    "    \n",
    "    # 1. 健康检查\n",
    "    try:\n",
    "        response = requests.get(f\"{BASE_URL}/admin/health\")\n",
    "        if response.status_code == 200:\n",
    "            print(\"✓ 健康检查通过\")\n",
    "        else:\n",
    "            print(f\"✗ 健康检查失败: {response.status_code}\")\n",
    "    except Exception as e:\n",
    "        print(f\"✗ 健康检查异常: {str(e)}\")\n",
    "    \n",
    "    # 2. 获取示例参与者\n",
    "    try:\n",
    "        response = requests.get(f\"{BASE_URL}/admin/participants/sample?count=3\")\n",
    "        if response.status_code == 200:\n",
    "            data = response.json()\n",
    "            print(f\"✓ 获取示例参与者成功 ({len(data.get('participants', []))} 个)\")\n",
    "        else:\n",
    "            print(f\"✗ 获取示例参与者失败: {response.status_code}\")\n",
    "    except Exception as e:\n",
    "        print(f\"✗ 获取示例参与者异常: {str(e)}\")\n",
    "    \n",
    "    # 3. 会话统计\n",
    "    try:\n",
    "        response = requests.get(f\"{BASE_URL}/admin/analytics/sessions\")\n",
    "        if response.status_code == 200:\n",
    "            data = response.json()\n",
    "            print(f\"✓ 会话统计获取成功\")\n",
    "            print(f\"  总会话数: {data.get('total_sessions', 0)}\")\n",
    "            print(f\"  活跃会话数: {data.get('active_sessions', 0)}\")\n",
    "        else:\n",
    "            print(f\"✗ 会话统计失败: {response.status_code}\")\n",
    "    except Exception as e:\n",
    "        print(f\"✗ 会话统计异常: {str(e)}\")\n",
    "    \n",
    "    # 4. 热门房产\n",
    "    try:\n",
    "        response = requests.get(f\"{BASE_URL}/admin/analytics/popular-properties?limit=3\")\n",
    "        if response.status_code == 200:\n",
    "            data = response.json()\n",
    "            popular = data.get('popular_properties', [])\n",
    "            print(f\"✓ 热门房产获取成功 ({len(popular)} 个)\")\n",
    "            for prop in popular[:2]:  # 显示前2个\n",
    "                print(f\"  - {prop.get('address', 'Unknown')} (协商次数: {prop.get('negotiation_count', 0)})\")\n",
    "        else:\n",
    "            print(f\"✗ 热门房产失败: {response.status_code}\")\n",
    "    except Exception as e:\n",
    "        print(f\"✗ 热门房产异常: {str(e)}\")\n",
    "\n",
    "test_admin_endpoints()"
   ]
  },
  {
   "cell_type": "markdown",
   "id": "71cd0628",
   "metadata": {},
   "source": [
    "## 7. 错误处理测试"
   ]
  },
  {
   "cell_type": "code",
   "execution_count": 8,
   "id": "c6b457bd",
   "metadata": {},
   "outputs": [
    {
     "name": "stdout",
     "output_type": "stream",
     "text": [
      "=== 错误处理测试 ===\n",
      "✗ 无效会话 ID 返回意外状态码: 500\n",
      "✓ 缺少参数正确返回 422\n",
      "✓ 不存在的参与者正确返回错误状态\n"
     ]
    }
   ],
   "source": [
    "# 错误场景测试\n",
    "def test_error_scenarios():\n",
    "    print(\"=== 错误处理测试 ===\")\n",
    "    \n",
    "    # 1. 无效会话 ID\n",
    "    try:\n",
    "        response = requests.get(f\"{BASE_URL}/negotiation/invalid-session-id\")\n",
    "        if response.status_code == 404:\n",
    "            print(\"✓ 无效会话 ID 正确返回 404\")\n",
    "        else:\n",
    "            print(f\"✗ 无效会话 ID 返回意外状态码: {response.status_code}\")\n",
    "    except Exception as e:\n",
    "        print(f\"✗ 无效会话 ID 测试异常: {str(e)}\")\n",
    "    \n",
    "    # 2. 创建协商时缺少参数\n",
    "    try:\n",
    "        incomplete_payload = {\n",
    "            \"property_id\": \"missing_other_fields\"\n",
    "        }\n",
    "        response = requests.post(\n",
    "            f\"{BASE_URL}/negotiation/create\",\n",
    "            json=incomplete_payload,\n",
    "            headers={\"Content-Type\": \"application/json\"}\n",
    "        )\n",
    "        if response.status_code == 422:  # Validation error\n",
    "            print(\"✓ 缺少参数正确返回 422\")\n",
    "        else:\n",
    "            print(f\"✗ 缺少参数返回意外状态码: {response.status_code}\")\n",
    "    except Exception as e:\n",
    "        print(f\"✗ 缺少参数测试异常: {str(e)}\")\n",
    "    \n",
    "    # 3. 不存在的参与者\n",
    "    try:\n",
    "        invalid_payload = {\n",
    "            \"property_id\": \"prop_123\",\n",
    "            \"tenant_ids\": [\"nonexistent_tenant\"],\n",
    "            \"landlord_id\": \"nonexistent_landlord\"\n",
    "        }\n",
    "        response = requests.post(\n",
    "            f\"{BASE_URL}/negotiation/create\",\n",
    "            json=invalid_payload,\n",
    "            headers={\"Content-Type\": \"application/json\"}\n",
    "        )\n",
    "        if response.status_code in [404, 500]:  # Not found or server error\n",
    "            print(\"✓ 不存在的参与者正确返回错误状态\")\n",
    "        else:\n",
    "            print(f\"✗ 不存在的参与者返回意外状态码: {response.status_code}\")\n",
    "    except Exception as e:\n",
    "        print(f\"✗ 不存在的参与者测试异常: {str(e)}\")\n",
    "\n",
    "test_error_scenarios()"
   ]
  },
  {
   "cell_type": "markdown",
   "id": "fe330188",
   "metadata": {},
   "source": [
    "## 8. 性能测试"
   ]
  },
  {
   "cell_type": "code",
   "execution_count": 9,
   "id": "27cab7ed",
   "metadata": {},
   "outputs": [
    {
     "name": "stdout",
     "output_type": "stream",
     "text": [
      "=== 性能测试 ===\n",
      "请求 1: 2.65ms\n",
      "请求 2: 2.33ms\n",
      "请求 3: 1.86ms\n",
      "请求 4: 1.77ms\n",
      "请求 5: 1.66ms\n",
      "\n",
      "响应时间统计:\n",
      "  平均: 2.05ms\n",
      "  最小: 1.66ms\n",
      "  最大: 2.65ms\n",
      "✓ 响应时间良好 (<100ms)\n"
     ]
    }
   ],
   "source": [
    "import time\n",
    "\n",
    "# 简单性能测试\n",
    "def performance_test():\n",
    "    print(\"=== 性能测试 ===\")\n",
    "    \n",
    "    # 测试根端点响应时间\n",
    "    times = []\n",
    "    for i in range(5):\n",
    "        start_time = time.time()\n",
    "        try:\n",
    "            response = requests.get(f\"{BASE_URL}/\")\n",
    "            end_time = time.time()\n",
    "            if response.status_code == 200:\n",
    "                response_time = (end_time - start_time) * 1000  # 转换为毫秒\n",
    "                times.append(response_time)\n",
    "                print(f\"请求 {i+1}: {response_time:.2f}ms\")\n",
    "        except Exception as e:\n",
    "            print(f\"请求 {i+1} 失败: {str(e)}\")\n",
    "    \n",
    "    if times:\n",
    "        avg_time = sum(times) / len(times)\n",
    "        min_time = min(times)\n",
    "        max_time = max(times)\n",
    "        print(f\"\\n响应时间统计:\")\n",
    "        print(f\"  平均: {avg_time:.2f}ms\")\n",
    "        print(f\"  最小: {min_time:.2f}ms\")\n",
    "        print(f\"  最大: {max_time:.2f}ms\")\n",
    "        \n",
    "        if avg_time < 100:\n",
    "            print(\"✓ 响应时间良好 (<100ms)\")\n",
    "        elif avg_time < 500:\n",
    "            print(\"⚠ 响应时间一般 (100-500ms)\")\n",
    "        else:\n",
    "            print(\"✗ 响应时间较慢 (>500ms)\")\n",
    "\n",
    "performance_test()"
   ]
  },
  {
   "cell_type": "markdown",
   "id": "2f69912d",
   "metadata": {},
   "source": [
    "## 9. 测试总结"
   ]
  },
  {
   "cell_type": "code",
   "execution_count": 10,
   "id": "0a6bee50",
   "metadata": {},
   "outputs": [
    {
     "name": "stdout",
     "output_type": "stream",
     "text": [
      "\n",
      "==================================================\n",
      "           API SERVICE 测试报告\n",
      "==================================================\n",
      "测试时间: 2025-06-06 16:12:16\n",
      "测试环境: http://localhost:8000\n",
      "\n",
      "测试结果概述:\n",
      "✓ API 服务健康状态: 正常\n",
      "✓ 演示数据获取: 失败\n",
      "✓ 协商会话创建: 失败\n",
      "✓ 会话信息查询: 失败\n",
      "\n",
      "\n",
      "建议:\n",
      "- 检查数据库连接\n",
      "- 确认演示数据已初始化\n"
     ]
    }
   ],
   "source": [
    "# 生成测试报告\n",
    "def generate_test_report():\n",
    "    print(\"\\n\" + \"=\"*50)\n",
    "    print(\"           API SERVICE 测试报告\")\n",
    "    print(\"=\"*50)\n",
    "    print(f\"测试时间: {datetime.now().strftime('%Y-%m-%d %H:%M:%S')}\")\n",
    "    print(f\"测试环境: {BASE_URL}\")\n",
    "    print()\n",
    "    \n",
    "    # 测试结果统计\n",
    "    print(\"测试结果概述:\")\n",
    "    print(f\"✓ API 服务健康状态: {'正常' if api_healthy else '异常'}\")\n",
    "    print(f\"✓ 演示数据获取: {'成功' if demo_data else '失败'}\")\n",
    "    print(f\"✓ 协商会话创建: {'成功' if test_session_id else '失败'}\")\n",
    "    print(f\"✓ 会话信息查询: {'成功' if session_info else '失败'}\")\n",
    "    print()\n",
    "    \n",
    "    if test_session_id:\n",
    "        print(f\"创建的测试会话 ID: {test_session_id}\")\n",
    "        print(f\"参与者信息:\")\n",
    "        print(f\"  - 房东 ID: {test_participants.get('landlord_id', 'N/A')}\")\n",
    "        print(f\"  - 租客 ID: {test_participants.get('tenant_ids', [])}\")\n",
    "        print(f\"  - 房产 ID: {test_participants.get('property_id', 'N/A')}\")\n",
    "    \n",
    "    print()\n",
    "    print(\"建议:\")\n",
    "    if not api_healthy:\n",
    "        print(\"- 检查 API 服务是否正在运行\")\n",
    "        print(\"- 验证服务器配置和依赖\")\n",
    "    if not demo_data:\n",
    "        print(\"- 检查数据库连接\")\n",
    "        print(\"- 确认演示数据已初始化\")\n",
    "    if api_healthy and demo_data:\n",
    "        print(\"- 所有基础功能运行正常\")\n",
    "        print(\"- 可以进行更深入的功能测试\")\n",
    "        print(\"- 建议进行负载测试验证性能\")\n",
    "\n",
    "generate_test_report()"
   ]
  },
  {
   "cell_type": "markdown",
   "id": "82ad97aa",
   "metadata": {},
   "source": [
    "## 测试使用说明\n",
    "\n",
    "### 前置条件\n",
    "1. 确保 API 服务在 localhost:8000 运行\n",
    "2. 数据库已连接并包含演示数据\n",
    "3. 安装必要的 Python 包: requests, websockets\n",
    "\n",
    "### 运行测试\n",
    "1. 按顺序执行各个代码单元\n",
    "2. 观察每个测试的输出结果\n",
    "3. 根据错误信息进行故障排除\n",
    "\n",
    "### 实际场景测试\n",
    "- **创建协商会话**: 模拟房东和租客之间的协商场景\n",
    "- **WebSocket 通信**: 测试实时消息传递\n",
    "- **管理功能**: 验证系统监控和分析能力\n",
    "- **错误处理**: 确保系统稳定性\n",
    "\n",
    "### 参与者角色\n",
    "- **房东**: 房产所有者，可以设置租金和条件\n",
    "- **租客**: 潜在承租人，可以提出租金和条件建议\n",
    "\n",
    "### 扩展测试\n",
    "- 多并发用户测试\n",
    "- 长时间连接稳定性测试\n",
    "- 大量数据处理性能测试\n",
    "- 异常场景恢复测试"
   ]
  }
 ],
 "metadata": {
  "kernelspec": {
   "display_name": ".venv",
   "language": "python",
   "name": "python3"
  },
  "language_info": {
   "codemirror_mode": {
    "name": "ipython",
    "version": 3
   },
   "file_extension": ".py",
   "mimetype": "text/x-python",
   "name": "python",
   "nbconvert_exporter": "python",
   "pygments_lexer": "ipython3",
   "version": "3.13.1"
  }
 },
 "nbformat": 4,
 "nbformat_minor": 5
}
